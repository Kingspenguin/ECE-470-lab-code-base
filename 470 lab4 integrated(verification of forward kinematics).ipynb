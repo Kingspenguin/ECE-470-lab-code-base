{
 "cells": [
  {
   "cell_type": "code",
   "execution_count": 4,
   "metadata": {},
   "outputs": [
    {
     "ename": "IndentationError",
     "evalue": "unexpected indent (<ipython-input-4-2d1db3f0baeb>, line 78)",
     "output_type": "error",
     "traceback": [
      "\u001b[1;36m  File \u001b[1;32m\"<ipython-input-4-2d1db3f0baeb>\"\u001b[1;36m, line \u001b[1;32m78\u001b[0m\n\u001b[1;33m    ra2=np.dot(brs2,dtor(theta2))\u001b[0m\n\u001b[1;37m    ^\u001b[0m\n\u001b[1;31mIndentationError\u001b[0m\u001b[1;31m:\u001b[0m unexpected indent\n"
     ]
    }
   ],
   "source": [
    "#this file is used for generate the forward kinematics for UR3 (We can use this to get T06 and d06)\n",
    "import numpy as np\n",
    "from scipy.linalg import expm\n",
    "\n",
    "\"\"\"\n",
    "Use 'expm' for matrix exponential.\n",
    "Angles are in radian, distance are in meters.\n",
    "\"\"\"\n",
    "\n",
    "def Get_MS():\n",
    "    # =================== Your code starts here ====================#\n",
    "    # Fill in the correct values for S1~6, as well as the M matrix\n",
    "    M = [[0,-1,0,0.39],[0,0,-1,0.401],[1,0,0,0.2155],[0,0,0,1]]\n",
    "    S = np.zeros((6,6))\n",
    "    w1=[0,0,1]\n",
    "    q1=[-0.15,0.15,0.01]\n",
    "    v1=-np.cross(w1,q1)\n",
    "    w2=[0,1,0]\n",
    "    q2=[-0.15,0.27,0.162]\n",
    "    v2=-np.cross(w2,q2)\n",
    "    w3=[0,1,0]\n",
    "    q3=[0.094,0.27,0.162]\n",
    "    v3=-np.cross(w3,q3)\n",
    "    w4=[0,1,0]\n",
    "    q4=[0.307,0.177,0.162]\n",
    "    v4=-np.cross(w4,q4)\n",
    "    w5=[1,0,0]\n",
    "    q5=[0.307,0.26,0.162]\n",
    "    v5=-np.cross(w5,q5)\n",
    "    w6=[0,1,0]\n",
    "    q6=[0.39,0.26,0.162]\n",
    "    v6=-np.cross(w6,q6)\n",
    "    S=[[w1[0],w2[0],w3[0],w4[0],w5[0],w6[0]],\n",
    "       [w1[1],w2[1],w3[1],w4[1],w5[1],w6[1]],\n",
    "       [w1[2],w2[2],w3[2],w4[2],w5[2],w6[2]],\n",
    "       [v1[0],v2[0],v3[0],v4[0],v5[0],v6[0]],\n",
    "       [v1[1],v2[1],v3[1],v4[1],v5[1],v6[1]],\n",
    "       [v1[2],v2[2],v3[2],v4[2],v5[2],v6[2]]]    \n",
    "       \n",
    "       \n",
    "\n",
    "\n",
    "    # ==============================================================#\n",
    "    return M, S\n",
    "\n",
    "def braket_s(s): #function for transform the s vector to the braket form [s]\n",
    "    w=s[0:3]\n",
    "    v=s[3:6]\n",
    "    return [[0,-w[2],w[1],v[0]],[w[2],0,-w[0],v[1]],[-w[1],w[0],0,v[2]],[0,0,0,0]]\n",
    "\n",
    "\"\"\"\n",
    "Function that calculates encoder numbers for each motor\n",
    "\"\"\"\n",
    "def lab_fk(theta1, theta2, theta3, theta4, theta5, theta6):\n",
    "\n",
    "    # Initialize the return_value \n",
    "    return_value = [None, None, None, None, None, None]\n",
    "\n",
    "    # =========== Implement joint angle to encoder expressions here ===========\n",
    "    print(\"Foward kinematics calculated:\\n\")\n",
    "\n",
    "    # =================== Your code starts here ====================#\n",
    "    M, S = Get_MS()\n",
    "    s1=[S[0][0],S[1][0],S[2][0],S[3][0],S[4][0],S[5][0]]\n",
    "    s2=[S[0][1],S[1][1],S[2][1],S[3][1],S[4][1],S[5][1]]\n",
    "    s3=[S[0][2],S[1][2],S[2][2],S[3][2],S[4][2],S[5][2]]\n",
    "    s4=[S[0][3],S[1][3],S[2][3],S[3][3],S[4][3],S[5][3]]\n",
    "    s5=[S[0][4],S[1][4],S[2][4],S[3][4],S[4][4],S[5][4]]\n",
    "    s6=[S[0][5],S[1][5],S[2][5],S[3][5],S[4][5],S[5][5]]\n",
    "    brs1=braket_s(s1)#change the s to the bracket form\n",
    "    brs2=braket_s(s2)\n",
    "    brs3=braket_s(s3)\n",
    "    brs4=braket_s(s4)\n",
    "    brs5=braket_s(s5)\n",
    "    brs6=braket_s(s6)\n",
    "ra1=np.dot(brs1,dtor(theta1))\n",
    "#before dot the [s] and theta, transform the theta to radius unit\n",
    "    ra2=np.dot(brs2,dtor(theta2))\n",
    "    ra3=np.dot(brs3,dtor(theta3))\n",
    "    ra4=np.dot(brs4,dtor(theta4))\n",
    "    ra5=np.dot(brs5,dtor(theta5))\n",
    "    ra6=np.dot(brs6,dtor(theta6))\n",
    "    t0=np.dot(expm(ra1),expm(ra2))\n",
    "    t1=np.dot(t0,expm(ra3))\n",
    "    t2=np.dot(t1,expm(ra4))\n",
    "    t3=np.dot(t2,expm(ra5))\n",
    "    t4=np.dot(t3,expm(ra6))\n",
    "    T=np.dot(t4,M)# the T06\n",
    "    \n",
    "        \n",
    "\n",
    "\n",
    "\n",
    "\n",
    "\n",
    "    print('\\nd06 is\\n',[T[0][3],T[1][3],T[2][3]]) #the d06\n",
    "    print('\\nx={},y={},z={}\\n'.format(T[0][3],T[1][3],T[2][3]))\n",
    "    # ==============================================================#\n",
    "    \n",
    "    print(str(T) + \"\\n\")\n",
    "\n",
    "    return_value[0] = theta1 + 180\n",
    "    return_value[1] = theta2\n",
    "    return_value[2] = theta3\n",
    "    return_value[3] = theta4 - (0.5*180)\n",
    "    return_value[4] = theta5\n",
    "    return_value[5] = theta6\n",
    "    return return_value\n",
    "\n",
    "def dtor(theta):#change the unit of angle from degree to radius\n",
    "    return theta*np.pi/180\n"
   ]
  },
  {
   "cell_type": "code",
   "execution_count": 5,
   "metadata": {},
   "outputs": [
    {
     "name": "stdout",
     "output_type": "stream",
     "text": [
      "Foward kinematics calculated:\n",
      "\n",
      "\n",
      "d06 is\n",
      " [0.29587589599454656, -0.010700208074035725, 0.12566762858738095]\n",
      "\n",
      "x=0.29587589599454656,y=-0.010700208074035725,z=0.12566762858738095\n",
      "\n",
      "[[ 0.64278761 -0.76312941 -0.06676517  0.2958759 ]\n",
      " [ 0.76604444  0.64034161  0.05602263 -0.01070021]\n",
      " [ 0.         -0.08715574  0.9961947   0.12566763]\n",
      " [ 0.          0.          0.          1.        ]]\n",
      "\n"
     ]
    },
    {
     "data": {
      "text/plain": [
       "[140, -50, 75, -120.0, -90, 0]"
      ]
     },
     "execution_count": 5,
     "metadata": {},
     "output_type": "execute_result"
    }
   ],
   "source": [
    "lab_fk(-40,-50,75,-30,-90,0) #inputs should be radius"
   ]
  },
  {
   "cell_type": "code",
   "execution_count": 6,
   "metadata": {},
   "outputs": [
    {
     "name": "stdout",
     "output_type": "stream",
     "text": [
      "verified\n"
     ]
    }
   ],
   "source": [
    "print('verified')"
   ]
  },
  {
   "cell_type": "code",
   "execution_count": 7,
   "metadata": {},
   "outputs": [
    {
     "name": "stdout",
     "output_type": "stream",
     "text": [
      "The answer for the configuration 1:\n",
      "\n",
      "Foward kinematics calculated:\n",
      "\n",
      "\n",
      "d06 is\n",
      " [0.2084063186135264, 0.6005554512976803, 0.2583301303791055]\n",
      "\n",
      "x=0.2084063186135264,y=0.6005554512976803,z=0.2583301303791055\n",
      "\n",
      "[[-0.57357644 -0.70940648 -0.40957602  0.20840632]\n",
      " [ 0.81915204 -0.49673176 -0.28678822  0.60055545]\n",
      " [ 0.         -0.5         0.8660254   0.25833013]\n",
      " [ 0.          0.          0.          1.        ]]\n",
      "\n"
     ]
    },
    {
     "data": {
      "text/plain": [
       "[215, -35, 25, -110.0, -90, 0]"
      ]
     },
     "execution_count": 7,
     "metadata": {},
     "output_type": "execute_result"
    }
   ],
   "source": [
    "print('The answer for the configuration 1:\\n')\n",
    "lab_fk(35,-35,25,-20,-90,0) "
   ]
  },
  {
   "cell_type": "code",
   "execution_count": 8,
   "metadata": {},
   "outputs": [
    {
     "name": "stdout",
     "output_type": "stream",
     "text": [
      "The answer for the configuration 2:\n",
      "\n",
      "Foward kinematics calculated:\n",
      "\n",
      "\n",
      "d06 is\n",
      " [0.4002031999186513, 0.41221259632522367, 0.1655668269005536]\n",
      "\n",
      "x=0.4002031999186513,y=0.41221259632522367,z=0.1655668269005536\n",
      "\n",
      "[[-0.03092682 -0.82460528 -0.56486252  0.4002032 ]\n",
      " [ 0.99454677  0.03092682 -0.0996005   0.4122126 ]\n",
      " [ 0.0996005  -0.56486252  0.81915204  0.16556683]\n",
      " [ 0.          0.          0.          1.        ]]\n",
      "\n"
     ]
    },
    {
     "data": {
      "text/plain": [
       "[190, -25, 35, -135.0, -90, 10]"
      ]
     },
     "execution_count": 8,
     "metadata": {},
     "output_type": "execute_result"
    }
   ],
   "source": [
    "print('The answer for the configuration 2:\\n')\n",
    "lab_fk(10,-25,35,-45,-90,10) "
   ]
  },
  {
   "cell_type": "code",
   "execution_count": null,
   "metadata": {},
   "outputs": [],
   "source": []
  },
  {
   "cell_type": "code",
   "execution_count": null,
   "metadata": {},
   "outputs": [],
   "source": []
  }
 ],
 "metadata": {
  "kernelspec": {
   "display_name": "Python 3",
   "language": "python",
   "name": "python3"
  },
  "language_info": {
   "codemirror_mode": {
    "name": "ipython",
    "version": 3
   },
   "file_extension": ".py",
   "mimetype": "text/x-python",
   "name": "python",
   "nbconvert_exporter": "python",
   "pygments_lexer": "ipython3",
   "version": "3.7.4"
  }
 },
 "nbformat": 4,
 "nbformat_minor": 2
}
